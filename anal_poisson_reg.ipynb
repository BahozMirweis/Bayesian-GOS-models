{
 "cells": [
  {
   "cell_type": "code",
   "execution_count": 108,
   "metadata": {},
   "outputs": [],
   "source": [
    "import numpy as np\n",
    "import pickle\n",
    "from nonparametric_linear_regression import construct_cluster_list"
   ]
  },
  {
   "cell_type": "code",
   "execution_count": 109,
   "metadata": {},
   "outputs": [],
   "source": [
    "with open(\"US_covid_ar_3y/long_mem_gamma_clusters.pkl\", \"rb\") as f:\n",
    "    clusters_load = pickle.load(f)"
   ]
  },
  {
   "cell_type": "code",
   "execution_count": 110,
   "metadata": {},
   "outputs": [],
   "source": [
    "with open(\"US_covid_ar_3y/long_mem_gamma_cluster_values.pkl\", \"rb\") as f:\n",
    "    cluster_values_load = pickle.load(f)"
   ]
  },
  {
   "cell_type": "code",
   "execution_count": 111,
   "metadata": {},
   "outputs": [],
   "source": [
    "params = np.load(\"US_covid_ar_3y/long_mem_gamma_single_params.npz\")"
   ]
  },
  {
   "cell_type": "code",
   "execution_count": 112,
   "metadata": {},
   "outputs": [],
   "source": [
    "X = params[\"X\"]\n",
    "y = params[\"y\"]\n",
    "n, p = X.shape"
   ]
  },
  {
   "cell_type": "code",
   "execution_count": 113,
   "metadata": {},
   "outputs": [],
   "source": [
    "cluster_values = cluster_values_load[2000:]"
   ]
  },
  {
   "cell_type": "code",
   "execution_count": 114,
   "metadata": {},
   "outputs": [],
   "source": [
    "clusters = [construct_cluster_list(cluster_graph, n) for cluster_graph in clusters_load[2000:]]"
   ]
  },
  {
   "cell_type": "code",
   "execution_count": 124,
   "metadata": {},
   "outputs": [],
   "source": [
    "def calc_acc(clusters, n):\n",
    "    num = [len(x) for x in clusters]\n",
    "    index = np.argpartition(num, len(num)-2)[-2:]\n",
    "    first = min(index)\n",
    "    second = max(index)\n",
    "\n",
    "    count = 0\n",
    "\n",
    "    for i in clusters[first]:\n",
    "        if i >= 50:\n",
    "            count +=1\n",
    "\n",
    "    if count >25:\n",
    "        temp = first\n",
    "        first = second\n",
    "        second = temp\n",
    "\n",
    "    count = 0\n",
    "    for i in clusters[first]:\n",
    "        if i < 50:\n",
    "            count += 1\n",
    "\n",
    "    for i in clusters[second]:\n",
    "        if i >= 50:\n",
    "            count += 1\n",
    "\n",
    "    return count/n"
   ]
  },
  {
   "cell_type": "code",
   "execution_count": 125,
   "metadata": {},
   "outputs": [
    {
     "data": {
      "text/plain": [
       "0.93"
      ]
     },
     "execution_count": 125,
     "metadata": {},
     "output_type": "execute_result"
    }
   ],
   "source": [
    "calc_acc(clusters[0], n)"
   ]
  },
  {
   "cell_type": "code",
   "execution_count": 126,
   "metadata": {},
   "outputs": [
    {
     "data": {
      "text/plain": [
       "[[0,\n",
       "  50,\n",
       "  51,\n",
       "  52,\n",
       "  53,\n",
       "  54,\n",
       "  55,\n",
       "  56,\n",
       "  57,\n",
       "  58,\n",
       "  59,\n",
       "  60,\n",
       "  61,\n",
       "  62,\n",
       "  63,\n",
       "  64,\n",
       "  65,\n",
       "  66,\n",
       "  67,\n",
       "  68,\n",
       "  69,\n",
       "  70,\n",
       "  71,\n",
       "  72,\n",
       "  73,\n",
       "  74,\n",
       "  75,\n",
       "  76,\n",
       "  77,\n",
       "  78,\n",
       "  79,\n",
       "  80,\n",
       "  81,\n",
       "  82,\n",
       "  83,\n",
       "  84,\n",
       "  85,\n",
       "  86,\n",
       "  87,\n",
       "  88,\n",
       "  89,\n",
       "  90,\n",
       "  91,\n",
       "  92,\n",
       "  93,\n",
       "  94,\n",
       "  95,\n",
       "  96,\n",
       "  97,\n",
       "  98,\n",
       "  99],\n",
       " [1, 2, 3, 4, 5, 22],\n",
       " [6,\n",
       "  7,\n",
       "  8,\n",
       "  9,\n",
       "  10,\n",
       "  11,\n",
       "  12,\n",
       "  13,\n",
       "  14,\n",
       "  15,\n",
       "  16,\n",
       "  17,\n",
       "  18,\n",
       "  19,\n",
       "  20,\n",
       "  21,\n",
       "  23,\n",
       "  24,\n",
       "  25,\n",
       "  26,\n",
       "  27,\n",
       "  28,\n",
       "  29,\n",
       "  30,\n",
       "  31,\n",
       "  32,\n",
       "  33,\n",
       "  34,\n",
       "  35,\n",
       "  36,\n",
       "  37,\n",
       "  38,\n",
       "  39,\n",
       "  40,\n",
       "  41,\n",
       "  42,\n",
       "  43,\n",
       "  44,\n",
       "  45,\n",
       "  46,\n",
       "  47,\n",
       "  48,\n",
       "  49]]"
      ]
     },
     "execution_count": 126,
     "metadata": {},
     "output_type": "execute_result"
    }
   ],
   "source": [
    "clusters[0]"
   ]
  },
  {
   "cell_type": "code",
   "execution_count": 127,
   "metadata": {},
   "outputs": [],
   "source": [
    "cluster_acc = [calc_acc(cluster, n) for cluster in clusters]"
   ]
  },
  {
   "cell_type": "code",
   "execution_count": 128,
   "metadata": {},
   "outputs": [],
   "source": [
    "cluster_length = [len(cluster) for cluster in clusters]"
   ]
  },
  {
   "cell_type": "code",
   "execution_count": 130,
   "metadata": {},
   "outputs": [],
   "source": [
    "def calc_cluster_value(clusters, cluster_values):\n",
    "    num = [len(x) for x in clusters]\n",
    "    index = np.argpartition(num, len(num)-2)[-2:]\n",
    "    first = min(index)\n",
    "    second = max(index)\n",
    "\n",
    "    count = 0\n",
    "\n",
    "    for i in clusters[first]:\n",
    "        if i >= 50:\n",
    "            count +=1\n",
    "\n",
    "    if count >25:\n",
    "        temp = first\n",
    "        first = second\n",
    "        second = temp\n",
    "\n",
    "    return cluster_values[first], cluster_values[second]"
   ]
  },
  {
   "cell_type": "code",
   "execution_count": 131,
   "metadata": {},
   "outputs": [],
   "source": [
    "beta1 = np.zeros((len(cluster_values), 2))\n",
    "beta2 = np.zeros((len(cluster_values), 2))"
   ]
  },
  {
   "cell_type": "code",
   "execution_count": 132,
   "metadata": {},
   "outputs": [],
   "source": [
    "for i in range(len(cluster_values)):\n",
    "    beta1[i], beta2[i] = calc_cluster_value(clusters[i], cluster_values[i])"
   ]
  },
  {
   "cell_type": "code",
   "execution_count": 133,
   "metadata": {},
   "outputs": [
    {
     "name": "stdout",
     "output_type": "stream",
     "text": [
      "cluster acc: 0.9465412500000001 +- 0.08807354624651773\n",
      "cluster length: 2.4195 +- 0.6314821850218738\n",
      "beta1: [1.00044667 0.96897845] +- [3.36916239 3.33769417]\n",
      "beta2: [1.92822037 1.63953372] +- [3.00779248 2.71910584]\n"
     ]
    }
   ],
   "source": [
    "print(f\"cluster acc: {np.mean(cluster_acc)} +- {np.std(cluster_acc)}\")\n",
    "print(f\"cluster length: {np.mean(cluster_length)} +- {np.std(cluster_length)}\")\n",
    "ls = {\"beta1\": beta1, \"beta2\": beta2}\n",
    "for name, vec in ls.items():\n",
    "    center = (np.quantile(vec, 0.025, axis = 0) + np.quantile(vec, 0.975, axis = 0))*0.5\n",
    "    dist = center - np.quantile(vec, 0.025)\n",
    "    print(f\"{name}: {center} +- {dist}\")"
   ]
  },
  {
   "cell_type": "code",
   "execution_count": null,
   "metadata": {},
   "outputs": [],
   "source": []
  }
 ],
 "metadata": {
  "kernelspec": {
   "display_name": "Python 3",
   "language": "python",
   "name": "python3"
  },
  "language_info": {
   "codemirror_mode": {
    "name": "ipython",
    "version": 3
   },
   "file_extension": ".py",
   "mimetype": "text/x-python",
   "name": "python",
   "nbconvert_exporter": "python",
   "pygments_lexer": "ipython3",
   "version": "3.9.10"
  }
 },
 "nbformat": 4,
 "nbformat_minor": 2
}
