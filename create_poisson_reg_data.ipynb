{
 "cells": [
  {
   "cell_type": "code",
   "execution_count": 52,
   "metadata": {},
   "outputs": [],
   "source": [
    "import numpy as np\n",
    "import pandas as pd\n",
    "import datetime\n",
    "import matplotlib.pyplot as plt"
   ]
  },
  {
   "cell_type": "code",
   "execution_count": 53,
   "metadata": {},
   "outputs": [],
   "source": [
    "n=50\n",
    "beta1 = np.array([1, 1])\n",
    "beta2 = np.array([2, 2])"
   ]
  },
  {
   "cell_type": "code",
   "execution_count": 54,
   "metadata": {},
   "outputs": [],
   "source": [
    "beta = np.zeros((2*n, 2))"
   ]
  },
  {
   "cell_type": "code",
   "execution_count": 55,
   "metadata": {},
   "outputs": [],
   "source": [
    "for i in range(n):\n",
    "    beta[i] = beta1\n",
    "\n",
    "for i in range(n, 2*n):\n",
    "    beta[i] = beta2"
   ]
  },
  {
   "cell_type": "code",
   "execution_count": 56,
   "metadata": {},
   "outputs": [],
   "source": [
    "X = np.vstack([np.linspace(1, 5, 2*n), np.linspace(1, 5, 2*n)]).T\n",
    "y = np.zeros(2*n)\n",
    "for i in range(2*n):\n",
    "    y[i] = np.random.poisson(np.exp(X[i]@beta[i]))"
   ]
  },
  {
   "cell_type": "code",
   "execution_count": 57,
   "metadata": {},
   "outputs": [
    {
     "data": {
      "text/plain": [
       "array([1.20000000e+01, 9.00000000e+00, 8.00000000e+00, 9.00000000e+00,\n",
       "       5.00000000e+00, 1.40000000e+01, 1.40000000e+01, 1.50000000e+01,\n",
       "       1.40000000e+01, 1.40000000e+01, 1.30000000e+01, 1.30000000e+01,\n",
       "       1.90000000e+01, 2.30000000e+01, 2.50000000e+01, 2.50000000e+01,\n",
       "       2.60000000e+01, 2.80000000e+01, 3.00000000e+01, 3.70000000e+01,\n",
       "       5.60000000e+01, 3.90000000e+01, 4.60000000e+01, 5.60000000e+01,\n",
       "       5.10000000e+01, 4.80000000e+01, 6.60000000e+01, 6.60000000e+01,\n",
       "       6.70000000e+01, 7.60000000e+01, 6.10000000e+01, 9.00000000e+01,\n",
       "       1.03000000e+02, 1.07000000e+02, 1.14000000e+02, 1.46000000e+02,\n",
       "       1.57000000e+02, 1.49000000e+02, 1.45000000e+02, 1.96000000e+02,\n",
       "       1.79000000e+02, 2.12000000e+02, 2.28000000e+02, 2.51000000e+02,\n",
       "       2.79000000e+02, 2.96000000e+02, 3.05000000e+02, 3.55000000e+02,\n",
       "       3.72000000e+02, 3.50000000e+02, 1.75896000e+05, 2.07960000e+05,\n",
       "       2.43013000e+05, 2.86486000e+05, 3.36729000e+05, 3.95992000e+05,\n",
       "       4.66066000e+05, 5.47314000e+05, 6.42252000e+05, 7.56385000e+05,\n",
       "       8.88760000e+05, 1.04357200e+06, 1.22638000e+06, 1.44270400e+06,\n",
       "       1.69643400e+06, 1.99312200e+06, 2.34216900e+06, 2.75153400e+06,\n",
       "       3.23901300e+06, 3.80589000e+06, 4.46740300e+06, 5.25974400e+06,\n",
       "       6.18230600e+06, 7.25944700e+06, 8.53147300e+06, 1.00334420e+07,\n",
       "       1.17946690e+07, 1.38585220e+07, 1.62839250e+07, 1.91477340e+07,\n",
       "       2.25111180e+07, 2.64558100e+07, 3.11004820e+07, 3.65485110e+07,\n",
       "       4.29705850e+07, 5.04801170e+07, 5.93449680e+07, 6.97555340e+07,\n",
       "       8.19959020e+07, 9.63838000e+07, 1.13288435e+08, 1.33150790e+08,\n",
       "       1.56511113e+08, 1.83960789e+08, 2.16227340e+08, 2.54161675e+08,\n",
       "       2.98772360e+08, 3.51170077e+08, 4.12772818e+08, 4.85123743e+08])"
      ]
     },
     "execution_count": 57,
     "metadata": {},
     "output_type": "execute_result"
    }
   ],
   "source": [
    "y"
   ]
  },
  {
   "cell_type": "code",
   "execution_count": 58,
   "metadata": {},
   "outputs": [],
   "source": [
    "np.savez(\"poi_data.npz\", X= X, y=y)"
   ]
  },
  {
   "cell_type": "code",
   "execution_count": null,
   "metadata": {},
   "outputs": [],
   "source": []
  }
 ],
 "metadata": {
  "kernelspec": {
   "display_name": "Python 3",
   "language": "python",
   "name": "python3"
  },
  "language_info": {
   "codemirror_mode": {
    "name": "ipython",
    "version": 3
   },
   "file_extension": ".py",
   "mimetype": "text/x-python",
   "name": "python",
   "nbconvert_exporter": "python",
   "pygments_lexer": "ipython3",
   "version": "3.9.10"
  }
 },
 "nbformat": 4,
 "nbformat_minor": 2
}
