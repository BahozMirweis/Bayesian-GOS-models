{
 "cells": [
  {
   "cell_type": "code",
   "execution_count": 644,
   "metadata": {},
   "outputs": [],
   "source": [
    "import numpy as np\n",
    "import pandas as pd\n",
    "import matplotlib.pyplot as plt\n",
    "import pickle\n",
    "from nonparametric_linear_regression import construct_cluster_list\n",
    "from nonparametric_non_conj_AR import sample_y_predictive\n",
    "from scipy.linalg import toeplitz"
   ]
  },
  {
   "cell_type": "code",
   "execution_count": 645,
   "metadata": {},
   "outputs": [],
   "source": [
    "data = pd.read_csv(\"data/UK_covid_data.csv\")"
   ]
  },
  {
   "cell_type": "code",
   "execution_count": 646,
   "metadata": {},
   "outputs": [
    {
     "data": {
      "text/html": [
       "<div>\n",
       "<style scoped>\n",
       "    .dataframe tbody tr th:only-of-type {\n",
       "        vertical-align: middle;\n",
       "    }\n",
       "\n",
       "    .dataframe tbody tr th {\n",
       "        vertical-align: top;\n",
       "    }\n",
       "\n",
       "    .dataframe thead th {\n",
       "        text-align: right;\n",
       "    }\n",
       "</style>\n",
       "<table border=\"1\" class=\"dataframe\">\n",
       "  <thead>\n",
       "    <tr style=\"text-align: right;\">\n",
       "      <th></th>\n",
       "      <th>Unnamed: 0</th>\n",
       "      <th>iso_code</th>\n",
       "      <th>continent</th>\n",
       "      <th>location</th>\n",
       "      <th>date</th>\n",
       "      <th>total_cases</th>\n",
       "      <th>new_cases</th>\n",
       "      <th>new_cases_smoothed</th>\n",
       "      <th>total_deaths</th>\n",
       "      <th>new_deaths</th>\n",
       "      <th>...</th>\n",
       "      <th>male_smokers</th>\n",
       "      <th>handwashing_facilities</th>\n",
       "      <th>hospital_beds_per_thousand</th>\n",
       "      <th>life_expectancy</th>\n",
       "      <th>human_development_index</th>\n",
       "      <th>population</th>\n",
       "      <th>excess_mortality_cumulative_absolute</th>\n",
       "      <th>excess_mortality_cumulative</th>\n",
       "      <th>excess_mortality</th>\n",
       "      <th>excess_mortality_cumulative_per_million</th>\n",
       "    </tr>\n",
       "  </thead>\n",
       "  <tbody>\n",
       "    <tr>\n",
       "      <th>0</th>\n",
       "      <td>368032</td>\n",
       "      <td>GBR</td>\n",
       "      <td>Europe</td>\n",
       "      <td>United Kingdom</td>\n",
       "      <td>2020-08-09</td>\n",
       "      <td>312127.0</td>\n",
       "      <td>6418.0</td>\n",
       "      <td>916.857</td>\n",
       "      <td>57422.0</td>\n",
       "      <td>145.0</td>\n",
       "      <td>...</td>\n",
       "      <td>24.7</td>\n",
       "      <td>NaN</td>\n",
       "      <td>2.54</td>\n",
       "      <td>81.32</td>\n",
       "      <td>0.932</td>\n",
       "      <td>67508936.0</td>\n",
       "      <td>56163.992</td>\n",
       "      <td>14.63</td>\n",
       "      <td>-1.82</td>\n",
       "      <td>837.52515</td>\n",
       "    </tr>\n",
       "    <tr>\n",
       "      <th>1</th>\n",
       "      <td>368039</td>\n",
       "      <td>GBR</td>\n",
       "      <td>Europe</td>\n",
       "      <td>United Kingdom</td>\n",
       "      <td>2020-08-16</td>\n",
       "      <td>319924.0</td>\n",
       "      <td>7797.0</td>\n",
       "      <td>1113.857</td>\n",
       "      <td>57573.0</td>\n",
       "      <td>151.0</td>\n",
       "      <td>...</td>\n",
       "      <td>24.7</td>\n",
       "      <td>NaN</td>\n",
       "      <td>2.54</td>\n",
       "      <td>81.32</td>\n",
       "      <td>0.932</td>\n",
       "      <td>67508936.0</td>\n",
       "      <td>56353.094</td>\n",
       "      <td>14.29</td>\n",
       "      <td>1.82</td>\n",
       "      <td>840.34503</td>\n",
       "    </tr>\n",
       "    <tr>\n",
       "      <th>2</th>\n",
       "      <td>368046</td>\n",
       "      <td>GBR</td>\n",
       "      <td>Europe</td>\n",
       "      <td>United Kingdom</td>\n",
       "      <td>2020-08-23</td>\n",
       "      <td>327652.0</td>\n",
       "      <td>7728.0</td>\n",
       "      <td>1104.000</td>\n",
       "      <td>57686.0</td>\n",
       "      <td>113.0</td>\n",
       "      <td>...</td>\n",
       "      <td>24.7</td>\n",
       "      <td>NaN</td>\n",
       "      <td>2.54</td>\n",
       "      <td>81.32</td>\n",
       "      <td>0.932</td>\n",
       "      <td>67508936.0</td>\n",
       "      <td>56846.195</td>\n",
       "      <td>14.04</td>\n",
       "      <td>4.70</td>\n",
       "      <td>847.69824</td>\n",
       "    </tr>\n",
       "    <tr>\n",
       "      <th>3</th>\n",
       "      <td>368053</td>\n",
       "      <td>GBR</td>\n",
       "      <td>Europe</td>\n",
       "      <td>United Kingdom</td>\n",
       "      <td>2020-08-30</td>\n",
       "      <td>336506.0</td>\n",
       "      <td>8854.0</td>\n",
       "      <td>1264.857</td>\n",
       "      <td>57786.0</td>\n",
       "      <td>100.0</td>\n",
       "      <td>...</td>\n",
       "      <td>24.7</td>\n",
       "      <td>NaN</td>\n",
       "      <td>2.54</td>\n",
       "      <td>81.32</td>\n",
       "      <td>0.932</td>\n",
       "      <td>67508936.0</td>\n",
       "      <td>57675.695</td>\n",
       "      <td>13.92</td>\n",
       "      <td>8.70</td>\n",
       "      <td>860.06790</td>\n",
       "    </tr>\n",
       "    <tr>\n",
       "      <th>4</th>\n",
       "      <td>368060</td>\n",
       "      <td>GBR</td>\n",
       "      <td>Europe</td>\n",
       "      <td>United Kingdom</td>\n",
       "      <td>2020-09-06</td>\n",
       "      <td>352029.0</td>\n",
       "      <td>15523.0</td>\n",
       "      <td>2217.571</td>\n",
       "      <td>57873.0</td>\n",
       "      <td>87.0</td>\n",
       "      <td>...</td>\n",
       "      <td>24.7</td>\n",
       "      <td>NaN</td>\n",
       "      <td>2.54</td>\n",
       "      <td>81.32</td>\n",
       "      <td>0.932</td>\n",
       "      <td>67508936.0</td>\n",
       "      <td>56204.395</td>\n",
       "      <td>13.23</td>\n",
       "      <td>-14.02</td>\n",
       "      <td>838.12760</td>\n",
       "    </tr>\n",
       "  </tbody>\n",
       "</table>\n",
       "<p>5 rows × 68 columns</p>\n",
       "</div>"
      ],
      "text/plain": [
       "   Unnamed: 0 iso_code continent        location        date  total_cases  \\\n",
       "0      368032      GBR    Europe  United Kingdom  2020-08-09     312127.0   \n",
       "1      368039      GBR    Europe  United Kingdom  2020-08-16     319924.0   \n",
       "2      368046      GBR    Europe  United Kingdom  2020-08-23     327652.0   \n",
       "3      368053      GBR    Europe  United Kingdom  2020-08-30     336506.0   \n",
       "4      368060      GBR    Europe  United Kingdom  2020-09-06     352029.0   \n",
       "\n",
       "   new_cases  new_cases_smoothed  total_deaths  new_deaths  ...  male_smokers  \\\n",
       "0     6418.0             916.857       57422.0       145.0  ...          24.7   \n",
       "1     7797.0            1113.857       57573.0       151.0  ...          24.7   \n",
       "2     7728.0            1104.000       57686.0       113.0  ...          24.7   \n",
       "3     8854.0            1264.857       57786.0       100.0  ...          24.7   \n",
       "4    15523.0            2217.571       57873.0        87.0  ...          24.7   \n",
       "\n",
       "   handwashing_facilities  hospital_beds_per_thousand  life_expectancy  \\\n",
       "0                     NaN                        2.54            81.32   \n",
       "1                     NaN                        2.54            81.32   \n",
       "2                     NaN                        2.54            81.32   \n",
       "3                     NaN                        2.54            81.32   \n",
       "4                     NaN                        2.54            81.32   \n",
       "\n",
       "   human_development_index  population  excess_mortality_cumulative_absolute  \\\n",
       "0                    0.932  67508936.0                             56163.992   \n",
       "1                    0.932  67508936.0                             56353.094   \n",
       "2                    0.932  67508936.0                             56846.195   \n",
       "3                    0.932  67508936.0                             57675.695   \n",
       "4                    0.932  67508936.0                             56204.395   \n",
       "\n",
       "   excess_mortality_cumulative  excess_mortality  \\\n",
       "0                        14.63             -1.82   \n",
       "1                        14.29              1.82   \n",
       "2                        14.04              4.70   \n",
       "3                        13.92              8.70   \n",
       "4                        13.23            -14.02   \n",
       "\n",
       "   excess_mortality_cumulative_per_million  \n",
       "0                                837.52515  \n",
       "1                                840.34503  \n",
       "2                                847.69824  \n",
       "3                                860.06790  \n",
       "4                                838.12760  \n",
       "\n",
       "[5 rows x 68 columns]"
      ]
     },
     "execution_count": 646,
     "metadata": {},
     "output_type": "execute_result"
    }
   ],
   "source": [
    "data.head()"
   ]
  },
  {
   "cell_type": "code",
   "execution_count": 647,
   "metadata": {},
   "outputs": [],
   "source": [
    "y = data[\"new_cases\"].to_numpy()/10**5"
   ]
  },
  {
   "cell_type": "code",
   "execution_count": 648,
   "metadata": {},
   "outputs": [],
   "source": [
    "n = len(y)"
   ]
  },
  {
   "cell_type": "code",
   "execution_count": 649,
   "metadata": {},
   "outputs": [],
   "source": [
    "x = [i for i in range(n)]"
   ]
  },
  {
   "cell_type": "code",
   "execution_count": 650,
   "metadata": {},
   "outputs": [
    {
     "data": {
      "text/plain": [
       "[<matplotlib.lines.Line2D at 0x17550fd79a0>]"
      ]
     },
     "execution_count": 650,
     "metadata": {},
     "output_type": "execute_result"
    },
    {
     "data": {
      "image/png": "[encoded data removed]",
      "text/plain": [
       "<Figure size 640x480 with 1 Axes>"
      ]
     },
     "metadata": {},
     "output_type": "display_data"
    }
   ],
   "source": [
    "plt.plot(x, y)"
   ]
  },
  {
   "cell_type": "code",
   "execution_count": 651,
   "metadata": {},
   "outputs": [],
   "source": [
    "diff_y = np.diff(y)"
   ]
  },
  {
   "cell_type": "code",
   "execution_count": 652,
   "metadata": {},
   "outputs": [
    {
     "data": {
      "text/plain": [
       "[<matplotlib.lines.Line2D at 0x1756ed019d0>]"
      ]
     },
     "execution_count": 652,
     "metadata": {},
     "output_type": "execute_result"
    },
    {
     "data": {
      "image/png": "[encoded data removed]",
      "text/plain": [
       "<Figure size 640x480 with 1 Axes>"
      ]
     },
     "metadata": {},
     "output_type": "display_data"
    }
   ],
   "source": [
    "plt.plot(range(n - 1), diff_y)"
   ]
  },
  {
   "cell_type": "code",
   "execution_count": 653,
   "metadata": {},
   "outputs": [],
   "source": [
    "y_new = diff_y[-1]"
   ]
  },
  {
   "cell_type": "code",
   "execution_count": 654,
   "metadata": {},
   "outputs": [],
   "source": [
    "length = \"long\"\n",
    "prior = \"gamma\"\n",
    "folder = \"AR_covid_non_conj_AR_mat\""
   ]
  },
  {
   "cell_type": "code",
   "execution_count": 655,
   "metadata": {},
   "outputs": [],
   "source": [
    "with open(f\"{folder}/{length}_mem_{prior}_clusters.pkl\", \"rb\") as f:\n",
    "    clusters_load = pickle.load(f)"
   ]
  },
  {
   "cell_type": "code",
   "execution_count": 656,
   "metadata": {},
   "outputs": [],
   "source": [
    "with open(f\"{folder}/{length}_mem_{prior}_cluster_values.pkl\", \"rb\") as f:\n",
    "    cluster_values_load = pickle.load(f)"
   ]
  },
  {
   "cell_type": "code",
   "execution_count": 657,
   "metadata": {},
   "outputs": [],
   "source": [
    "params = np.load(f\"{folder}/{length}_mem_{prior}_single_params.npz\")"
   ]
  },
  {
   "cell_type": "code",
   "execution_count": 658,
   "metadata": {},
   "outputs": [],
   "source": [
    "with open(f\"{folder}/{length}_mem_{prior}_tau_values.pkl\", 'rb') as f:\n",
    "    tau_list_load = pickle.load(f)"
   ]
  },
  {
   "cell_type": "code",
   "execution_count": 659,
   "metadata": {},
   "outputs": [],
   "source": [
    "clusters = clusters_load[2000:]\n",
    "cluster_values = cluster_values_load[2000:]\n",
    "tau_list = tau_list_load[2000:]"
   ]
  },
  {
   "cell_type": "code",
   "execution_count": 660,
   "metadata": {},
   "outputs": [],
   "source": [
    "n = max(clusters[0]) + 1"
   ]
  },
  {
   "cell_type": "code",
   "execution_count": 661,
   "metadata": {},
   "outputs": [],
   "source": [
    "cluster_lists = [construct_cluster_list(x, n) for x in clusters]"
   ]
  },
  {
   "cell_type": "code",
   "execution_count": 662,
   "metadata": {},
   "outputs": [],
   "source": [
    "y = params[\"y\"]"
   ]
  },
  {
   "cell_type": "code",
   "execution_count": 663,
   "metadata": {},
   "outputs": [],
   "source": [
    "stds =[np.std(y[t]) for t in cluster_lists[-1]]"
   ]
  },
  {
   "cell_type": "code",
   "execution_count": 664,
   "metadata": {},
   "outputs": [
    {
     "data": {
      "text/plain": [
       "2"
      ]
     },
     "execution_count": 664,
     "metadata": {},
     "output_type": "execute_result"
    }
   ],
   "source": [
    "np.argmax(stds)"
   ]
  },
  {
   "cell_type": "code",
   "execution_count": 666,
   "metadata": {},
   "outputs": [
    {
     "data": {
      "text/plain": [
       "-1"
      ]
     },
     "execution_count": 666,
     "metadata": {},
     "output_type": "execute_result"
    }
   ],
   "source": [
    "index = -1"
   ]
  },
  {
   "cell_type": "code",
   "execution_count": 667,
   "metadata": {},
   "outputs": [
    {
     "data": {
      "text/plain": [
       "3"
      ]
     },
     "execution_count": 667,
     "metadata": {},
     "output_type": "execute_result"
    }
   ],
   "source": [
    "min([len(x) for x in cluster_lists])"
   ]
  },
  {
   "cell_type": "code",
   "execution_count": 668,
   "metadata": {},
   "outputs": [],
   "source": [
    "# Last iterations\n",
    "max_var_cluster = cluster_lists[index][np.argmax([np.var(y[t])*len(t)**2/n for t in cluster_lists[index]])]\n",
    "#max_var_cluster = cluster_lists[index][np.argmax([np.var(y[t]) for t in cluster_lists[index]])]"
   ]
  },
  {
   "cell_type": "code",
   "execution_count": 669,
   "metadata": {},
   "outputs": [
    {
     "data": {
      "text/plain": [
       "[[0,\n",
       "  1,\n",
       "  2,\n",
       "  3,\n",
       "  4,\n",
       "  9,\n",
       "  24,\n",
       "  25,\n",
       "  34,\n",
       "  38,\n",
       "  47,\n",
       "  53,\n",
       "  57,\n",
       "  61,\n",
       "  63,\n",
       "  65,\n",
       "  71,\n",
       "  73,\n",
       "  74,\n",
       "  75,\n",
       "  96,\n",
       "  98,\n",
       "  101,\n",
       "  102,\n",
       "  105,\n",
       "  107,\n",
       "  111,\n",
       "  112,\n",
       "  113,\n",
       "  117,\n",
       "  121,\n",
       "  123],\n",
       " [5,\n",
       "  6,\n",
       "  7,\n",
       "  8,\n",
       "  10,\n",
       "  11,\n",
       "  12,\n",
       "  13,\n",
       "  14,\n",
       "  15,\n",
       "  16,\n",
       "  17,\n",
       "  19,\n",
       "  21,\n",
       "  22,\n",
       "  23,\n",
       "  27,\n",
       "  28,\n",
       "  29,\n",
       "  30,\n",
       "  31,\n",
       "  32,\n",
       "  33,\n",
       "  35,\n",
       "  36,\n",
       "  37,\n",
       "  39,\n",
       "  40,\n",
       "  41,\n",
       "  42,\n",
       "  43,\n",
       "  44,\n",
       "  45,\n",
       "  48,\n",
       "  49,\n",
       "  50,\n",
       "  51,\n",
       "  52,\n",
       "  54,\n",
       "  55,\n",
       "  56,\n",
       "  58,\n",
       "  59,\n",
       "  60,\n",
       "  62,\n",
       "  64,\n",
       "  66,\n",
       "  67,\n",
       "  76,\n",
       "  77,\n",
       "  78,\n",
       "  81,\n",
       "  82,\n",
       "  86,\n",
       "  87,\n",
       "  88,\n",
       "  89,\n",
       "  90,\n",
       "  91,\n",
       "  92,\n",
       "  93,\n",
       "  94,\n",
       "  95,\n",
       "  99,\n",
       "  100,\n",
       "  103,\n",
       "  104,\n",
       "  106,\n",
       "  108,\n",
       "  109,\n",
       "  110,\n",
       "  114,\n",
       "  115,\n",
       "  116,\n",
       "  118,\n",
       "  119,\n",
       "  120,\n",
       "  122,\n",
       "  124,\n",
       "  125],\n",
       " [18, 20, 26, 46, 68, 69, 70, 72, 79, 80, 83, 84, 85, 97]]"
      ]
     },
     "execution_count": 669,
     "metadata": {},
     "output_type": "execute_result"
    }
   ],
   "source": [
    "cluster_lists[index]"
   ]
  },
  {
   "cell_type": "code",
   "execution_count": 670,
   "metadata": {},
   "outputs": [
    {
     "data": {
      "text/plain": [
       "[5,\n",
       " 6,\n",
       " 7,\n",
       " 8,\n",
       " 10,\n",
       " 11,\n",
       " 12,\n",
       " 13,\n",
       " 14,\n",
       " 15,\n",
       " 16,\n",
       " 17,\n",
       " 19,\n",
       " 21,\n",
       " 22,\n",
       " 23,\n",
       " 27,\n",
       " 28,\n",
       " 29,\n",
       " 30,\n",
       " 31,\n",
       " 32,\n",
       " 33,\n",
       " 35,\n",
       " 36,\n",
       " 37,\n",
       " 39,\n",
       " 40,\n",
       " 41,\n",
       " 42,\n",
       " 43,\n",
       " 44,\n",
       " 45,\n",
       " 48,\n",
       " 49,\n",
       " 50,\n",
       " 51,\n",
       " 52,\n",
       " 54,\n",
       " 55,\n",
       " 56,\n",
       " 58,\n",
       " 59,\n",
       " 60,\n",
       " 62,\n",
       " 64,\n",
       " 66,\n",
       " 67,\n",
       " 76,\n",
       " 77,\n",
       " 78,\n",
       " 81,\n",
       " 82,\n",
       " 86,\n",
       " 87,\n",
       " 88,\n",
       " 89,\n",
       " 90,\n",
       " 91,\n",
       " 92,\n",
       " 93,\n",
       " 94,\n",
       " 95,\n",
       " 99,\n",
       " 100,\n",
       " 103,\n",
       " 104,\n",
       " 106,\n",
       " 108,\n",
       " 109,\n",
       " 110,\n",
       " 114,\n",
       " 115,\n",
       " 116,\n",
       " 118,\n",
       " 119,\n",
       " 120,\n",
       " 122,\n",
       " 124,\n",
       " 125]"
      ]
     },
     "execution_count": 670,
     "metadata": {},
     "output_type": "execute_result"
    }
   ],
   "source": [
    "max_var_cluster"
   ]
  },
  {
   "cell_type": "code",
   "execution_count": 671,
   "metadata": {},
   "outputs": [
    {
     "data": {
      "text/plain": [
       "<matplotlib.collections.PathCollection at 0x1756a5c4700>"
      ]
     },
     "execution_count": 671,
     "metadata": {},
     "output_type": "execute_result"
    },
    {
     "data": {
      "image/png": "[encoded data removed]",
      "text/plain": [
       "<Figure size 1500x480 with 1 Axes>"
      ]
     },
     "metadata": {},
     "output_type": "display_data"
    }
   ],
   "source": [
    "x_other = [x for x in range(n) if x not in max_var_cluster]\n",
    "x = range(n)\n",
    "plt.figure().set_figwidth(15)\n",
    "plt.plot(x,y)\n",
    "plt.scatter(max_var_cluster, y[max_var_cluster], color = \"red\")\n",
    "plt.scatter(x_other, y[x_other], color = \"green\")"
   ]
  },
  {
   "cell_type": "code",
   "execution_count": 672,
   "metadata": {},
   "outputs": [],
   "source": [
    "X = params[\"X\"]\n",
    "w = params[\"w\"][-1]\n",
    "n, p = X.shape"
   ]
  },
  {
   "cell_type": "code",
   "execution_count": 673,
   "metadata": {},
   "outputs": [],
   "source": [
    "if \"rho\" in params:\n",
    "    rho = params[\"rho\"][-1]\n",
    "    row = [rho**i for i in range(p)]\n",
    "    cov_matrix = toeplitz(row, row)\n",
    "else:\n",
    "    cov_matrix = 0.5*np.identity(p)"
   ]
  },
  {
   "cell_type": "code",
   "execution_count": 674,
   "metadata": {},
   "outputs": [
    {
     "data": {
      "text/plain": [
       "-0.024241533366281043"
      ]
     },
     "execution_count": 674,
     "metadata": {},
     "output_type": "execute_result"
    }
   ],
   "source": [
    "sample_y_predictive(cluster_lists[index], w, \"gamma\", cluster_values[-1], X[-1], n, cov_matrix, tau_list[-1], 2, np.var(y))"
   ]
  },
  {
   "cell_type": "code",
   "execution_count": 675,
   "metadata": {},
   "outputs": [
    {
     "name": "stdout",
     "output_type": "stream",
     "text": [
      "0.19056635341243774\n"
     ]
    }
   ],
   "source": [
    "predictive_bias = 0\n",
    "for i in range(1000):\n",
    "    w = params[\"w\"][-i]\n",
    "\n",
    "    if \"rho\" in params:\n",
    "        rho = params[\"rho\"][-i]\n",
    "        row = [rho**i for i in range(p)]\n",
    "        cov_matrix = toeplitz(row, row)\n",
    "    else:\n",
    "        cov_matrix = 0.5*np.identity(p)\n",
    "\n",
    "    x = np.array([1, y[-1], y[-2]])\n",
    "    y_pred = sample_y_predictive(cluster_lists[-i], w, prior, cluster_values[-i], x, n, cov_matrix, tau_list[-i], 2, np.var(y))\n",
    "    predictive_bias += abs(y_pred - y_new)\n",
    "\n",
    "print(predictive_bias/1000)"
   ]
  },
  {
   "cell_type": "code",
   "execution_count": 676,
   "metadata": {},
   "outputs": [],
   "source": [
    "tau_max_var = np.zeros(len(tau_list))\n",
    "cluster_values_max_var = np.zeros((len(cluster_values), p))"
   ]
  },
  {
   "cell_type": "code",
   "execution_count": 677,
   "metadata": {},
   "outputs": [],
   "source": [
    "for i in range(len(tau_list)):\n",
    "    max_var_index = np.argmax([np.var(y[t]) for t in cluster_lists[i]])\n",
    "    tau_max_var[i] = tau_list[i][max_var_index]\n",
    "    cluster_values_max_var[i] = cluster_values[i][max_var_index]"
   ]
  },
  {
   "cell_type": "code",
   "execution_count": 678,
   "metadata": {},
   "outputs": [],
   "source": [
    "num_clusters = [len(x) for x in cluster_lists]"
   ]
  },
  {
   "cell_type": "code",
   "execution_count": 679,
   "metadata": {},
   "outputs": [
    {
     "name": "stdout",
     "output_type": "stream",
     "text": [
      "num clusters: 3.3781632653061227 +- 0.5908249972928299\n",
      "rho: 0.24275614171003254 +- 0.23648835062450554\n",
      "tau_max_var: 0.7179787395329801 +- 0.4897640111816618\n",
      "cluster_values_max_var: [ 0.52077141  0.55209066 -1.49446787] +- [2.31626499 2.34758424 0.30102572]\n"
     ]
    }
   ],
   "source": [
    "print(f\"num clusters: {np.mean(num_clusters)} +- {np.std(num_clusters)}\")\n",
    "ls = {\"rho\": params[\"rho\"][2000:], \"tau_max_var\" : tau_max_var, \"cluster_values_max_var\" : cluster_values_max_var}\n",
    "for name, vec in ls.items():\n",
    "    center = (np.quantile(vec, 0.025, axis = 0) + np.quantile(vec, 0.975, axis = 0))*0.5\n",
    "    dist = center - np.quantile(vec, 0.025)\n",
    "    print(f\"{name}: {center} +- {dist}\")"
   ]
  },
  {
   "cell_type": "code",
   "execution_count": null,
   "metadata": {},
   "outputs": [],
   "source": []
  }
 ],
 "metadata": {
  "kernelspec": {
   "display_name": "Python 3",
   "language": "python",
   "name": "python3"
  },
  "language_info": {
   "codemirror_mode": {
    "name": "ipython",
    "version": 3
   },
   "file_extension": ".py",
   "mimetype": "text/x-python",
   "name": "python",
   "nbconvert_exporter": "python",
   "pygments_lexer": "ipython3",
   "version": "3.9.10"
  }
 },
 "nbformat": 4,
 "nbformat_minor": 2
}
